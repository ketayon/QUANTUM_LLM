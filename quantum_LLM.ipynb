{
 "cells": [
  {
   "cell_type": "code",
   "execution_count": 1,
   "metadata": {},
   "outputs": [],
   "source": [
    "# %pip install qiskit\n",
    "# %pip install qiskit_machine_learning\n",
    "# %pip install qiskit_algorithms\n",
    "# %pip install datasets\n",
    "# %pip install 'accelerate>=0.26.0'\n",
    "# %pip install numpy\n",
    "# %pip install pandas\n",
    "# %pip install matplotlib\n",
    "# %pip install seaborn\n",
    "# %pip install torch\n",
    "# %pip install transformers\n",
    "# %pip install scikit-learn\n",
    "# %pip install datasets\n",
    "# %pip install kagglehub\n",
    "# %pip install qiskit\n",
    "# %pip install qiskit_machine_learning\n",
    "# %pip install qiskit_algorithms\n",
    "# %pip install ipywidgets\n",
    "# %pip install pylatexenc\n"
   ]
  },
  {
   "cell_type": "code",
   "execution_count": 2,
   "metadata": {},
   "outputs": [],
   "source": [
    "import pickle\n",
    "import gc \n",
    "import os\n",
    "import pandas as pd\n",
    "import numpy as np\n",
    "import torch\n",
    "import seaborn as sns\n",
    "import matplotlib.pyplot as plt\n",
    "from transformers import (\n",
    "    AutoTokenizer, AutoModelForSequenceClassification,\n",
    "    Trainer, TrainingArguments, DataCollatorWithPadding,\n",
    "    AutoModelForCausalLM\n",
    ")\n",
    "from sklearn.metrics import accuracy_score, classification_report, confusion_matrix\n",
    "from sklearn.model_selection import train_test_split\n",
    "from sklearn.decomposition import PCA\n",
    "from sklearn.feature_extraction.text import TfidfVectorizer\n",
    "from sklearn.preprocessing import StandardScaler\n",
    "from datasets import Dataset\n",
    "from qiskit import QuantumCircuit\n",
    "from qiskit.circuit import ParameterVector\n",
    "from qiskit.primitives import Sampler\n",
    "from qiskit_machine_learning.utils.loss_functions import SVCLoss\n",
    "from qiskit_machine_learning.kernels import TrainableFidelityQuantumKernel\n",
    "from qiskit_machine_learning.state_fidelities import ComputeUncompute\n",
    "from qiskit_machine_learning.kernels.algorithms.quantum_kernel_trainer import QuantumKernelTrainer\n",
    "from qiskit_algorithms.optimizers import SPSA\n",
    "from joblib import Parallel, delayed\n",
    "import kagglehub\n",
    "from tqdm import tqdm\n",
    "\n",
    "import warnings\n",
    "warnings.filterwarnings('ignore')"
   ]
  },
  {
   "cell_type": "markdown",
   "metadata": {},
   "source": [
    "#### Dataset from https://www.kaggle.com/datasets/lizhecheng/llm-science-dataset"
   ]
  },
  {
   "cell_type": "code",
   "execution_count": 3,
   "metadata": {},
   "outputs": [],
   "source": [
    "file_path = kagglehub.dataset_download(\"lizhecheng/llm-science-dataset\")\n",
    "\n",
    "# print(file_path)"
   ]
  },
  {
   "cell_type": "markdown",
   "metadata": {},
   "source": [
    "#### DATA PREPARATION"
   ]
  },
  {
   "cell_type": "markdown",
   "metadata": {},
   "source": [
    "##### Load the data"
   ]
  },
  {
   "cell_type": "code",
   "execution_count": 4,
   "metadata": {},
   "outputs": [
    {
     "name": "stdout",
     "output_type": "stream",
     "text": [
      "Original Data:\n",
      "   id                                             prompt  \\\n",
      "0   0  Which of the following statements accurately d...   \n",
      "1   1  Which of the following is an accurate definiti...   \n",
      "2   2  What is the significance of regularization in ...   \n",
      "3   3  Which of the following statements accurately d...   \n",
      "4   4  Which of the following statements accurately d...   \n",
      "\n",
      "                                                   A  \\\n",
      "0  MOND is a theory that reduces the observed mis...   \n",
      "1  Dynamic scaling refers to the evolution of sel...   \n",
      "2  Regularizing the mass-energy of an electron wi...   \n",
      "3  The angular spacing of features in the diffrac...   \n",
      "4  The dimension of an object in a CW complex is ...   \n",
      "\n",
      "                                                   B  \\\n",
      "0  MOND is a theory that increases the discrepanc...   \n",
      "1  Dynamic scaling refers to the non-evolution of...   \n",
      "2  Regularizing the mass-energy of an electron wi...   \n",
      "3  The angular spacing of features in the diffrac...   \n",
      "4  The dimension of an object in a CW complex is ...   \n",
      "\n",
      "                                                   C  \\\n",
      "0  MOND is a theory that explains the missing bar...   \n",
      "1  Dynamic scaling refers to the evolution of sel...   \n",
      "2  Regularizing the mass-energy of an electron wi...   \n",
      "3  The angular spacing of features in the diffrac...   \n",
      "4  The dimension of an object in a CW complex is ...   \n",
      "\n",
      "                                                   D  \\\n",
      "0  MOND is a theory that reduces the discrepancy ...   \n",
      "1  Dynamic scaling refers to the non-evolution of...   \n",
      "2  Regularizing the mass-energy of an electron wi...   \n",
      "3  The angular spacing of features in the diffrac...   \n",
      "4  The dimension of an object in a CW complex is ...   \n",
      "\n",
      "                                                   E answer  \n",
      "0  MOND is a theory that eliminates the observed ...      D  \n",
      "1  Dynamic scaling refers to the evolution of sel...      A  \n",
      "2  Regularizing the mass-energy of an electron wi...      C  \n",
      "3  The angular spacing of features in the diffrac...      D  \n",
      "4  The dimension of an object in a CW complex dep...      A  \n"
     ]
    }
   ],
   "source": [
    "data = pd.read_csv(f\"{file_path}/High Quality Dataset.csv\")\n",
    "print(\"Original Data:\")\n",
    "print(data.head())"
   ]
  },
  {
   "cell_type": "markdown",
   "metadata": {},
   "source": [
    "##### Inspect mapping"
   ]
  },
  {
   "cell_type": "code",
   "execution_count": 30,
   "metadata": {},
   "outputs": [
    {
     "name": "stdout",
     "output_type": "stream",
     "text": [
      "Label to ID Mapping: {'A': 0, 'B': 1, 'C': 2, 'D': 3, 'E': 4}\n",
      "ID to Label Mapping: {0: 'A', 1: 'B', 2: 'C', 3: 'D', 4: 'E'}\n"
     ]
    }
   ],
   "source": [
    "data = data[:1000]\n",
    "\n",
    "X = data['prompt'].values[300:]\n",
    "y = data['answer'].values[300:]\n",
    "\n",
    "label_to_id = {label: idx for idx, label in enumerate(np.unique(y))}\n",
    "id_to_label = {idx: label for label, idx in label_to_id.items()}\n",
    "y = np.array([label_to_id[label] for label in y])\n",
    "\n",
    "print(\"Label to ID Mapping:\", label_to_id)\n",
    "print(\"ID to Label Mapping:\", id_to_label)"
   ]
  },
  {
   "cell_type": "markdown",
   "metadata": {},
   "source": [
    "##### Filter classes with only one instance"
   ]
  },
  {
   "cell_type": "code",
   "execution_count": 31,
   "metadata": {},
   "outputs": [
    {
     "name": "stdout",
     "output_type": "stream",
     "text": [
      "Label Counts Before Filtering:\n",
      "1    156\n",
      "0    148\n",
      "3    138\n",
      "2    137\n",
      "4    121\n",
      "Name: count, dtype: int64\n"
     ]
    }
   ],
   "source": [
    "label_counts = pd.Series(y).value_counts()\n",
    "print(\"Label Counts Before Filtering:\")\n",
    "print(label_counts)"
   ]
  },
  {
   "cell_type": "markdown",
   "metadata": {},
   "source": [
    "##### filtered dataset"
   ]
  },
  {
   "cell_type": "code",
   "execution_count": 32,
   "metadata": {},
   "outputs": [
    {
     "name": "stdout",
     "output_type": "stream",
     "text": [
      "Filtered Data:\n",
      "   id                                             prompt  \\\n",
      "0   0  Which of the following statements accurately d...   \n",
      "1   1  Which of the following is an accurate definiti...   \n",
      "2   2  What is the significance of regularization in ...   \n",
      "3   3  Which of the following statements accurately d...   \n",
      "4   4  Which of the following statements accurately d...   \n",
      "\n",
      "                                                   A  \\\n",
      "0  MOND is a theory that reduces the observed mis...   \n",
      "1  Dynamic scaling refers to the evolution of sel...   \n",
      "2  Regularizing the mass-energy of an electron wi...   \n",
      "3  The angular spacing of features in the diffrac...   \n",
      "4  The dimension of an object in a CW complex is ...   \n",
      "\n",
      "                                                   B  \\\n",
      "0  MOND is a theory that increases the discrepanc...   \n",
      "1  Dynamic scaling refers to the non-evolution of...   \n",
      "2  Regularizing the mass-energy of an electron wi...   \n",
      "3  The angular spacing of features in the diffrac...   \n",
      "4  The dimension of an object in a CW complex is ...   \n",
      "\n",
      "                                                   C  \\\n",
      "0  MOND is a theory that explains the missing bar...   \n",
      "1  Dynamic scaling refers to the evolution of sel...   \n",
      "2  Regularizing the mass-energy of an electron wi...   \n",
      "3  The angular spacing of features in the diffrac...   \n",
      "4  The dimension of an object in a CW complex is ...   \n",
      "\n",
      "                                                   D  \\\n",
      "0  MOND is a theory that reduces the discrepancy ...   \n",
      "1  Dynamic scaling refers to the non-evolution of...   \n",
      "2  Regularizing the mass-energy of an electron wi...   \n",
      "3  The angular spacing of features in the diffrac...   \n",
      "4  The dimension of an object in a CW complex is ...   \n",
      "\n",
      "                                                   E answer  \n",
      "0  MOND is a theory that eliminates the observed ...      D  \n",
      "1  Dynamic scaling refers to the evolution of sel...      A  \n",
      "2  Regularizing the mass-energy of an electron wi...      C  \n",
      "3  The angular spacing of features in the diffrac...      D  \n",
      "4  The dimension of an object in a CW complex dep...      A  \n"
     ]
    }
   ],
   "source": [
    "filtered_data = data[~data['answer'].isin(label_counts[label_counts == 1].index)]\n",
    "print(\"Filtered Data:\")\n",
    "print(filtered_data.head())"
   ]
  },
  {
   "cell_type": "code",
   "execution_count": 33,
   "metadata": {},
   "outputs": [
    {
     "name": "stdout",
     "output_type": "stream",
     "text": [
      "X_train Sample: ['What is the second law of thermodynamics?'\n",
      " 'What is the plot of the movie \"Z for Zachariah\" based on?'\n",
      " 'What is the population of Kurudere village in 2022?']\n",
      "y_train Sample: [4 3 0]\n"
     ]
    }
   ],
   "source": [
    "X = filtered_data['prompt'].values\n",
    "y = np.array([label_to_id[label] for label in filtered_data['answer'].values])\n",
    "\n",
    "X_train, X_test, y_train, y_test = train_test_split(X, y, test_size=0.2, random_state=42)\n",
    "print(f\"X_train Sample: {X_train[:3]}\")\n",
    "print(f\"y_train Sample: {y_train[:3]}\")\n"
   ]
  },
  {
   "cell_type": "code",
   "execution_count": 34,
   "metadata": {},
   "outputs": [],
   "source": [
    "# Use TF-IDF to transform text data into numerical features\n",
    "tfidf_vectorizer = TfidfVectorizer(max_features=50)\n",
    "X_train_tfidf = tfidf_vectorizer.fit_transform(X_train).toarray()  # Convert sparse matrix to array\n",
    "X_test_tfidf = tfidf_vectorizer.transform(X_test).toarray()\n",
    "\n",
    "# Scale the data for PCA\n",
    "scaler = StandardScaler()\n",
    "X_train_scaled = scaler.fit_transform(X_train_tfidf)\n",
    "X_test_scaled = scaler.transform(X_test_tfidf)\n",
    "\n",
    "# Apply PCA to reduce dimensions to match the number of qubits\n",
    "num_qubits = 8\n",
    "pca = PCA(n_components=num_qubits)\n",
    "X_train_reduced = pca.fit_transform(X_train_scaled)\n",
    "X_test_reduced = pca.transform(X_test_scaled)\n",
    "\n",
    "# Update Training Data Used in Quantum Kernel Trainer\n",
    "X_train_quantum = X_train_reduced[:50]\n",
    "y_train_quantum = y_train[:50]"
   ]
  },
  {
   "cell_type": "markdown",
   "metadata": {},
   "source": [
    "#### Prepare Quantum circuit"
   ]
  },
  {
   "cell_type": "code",
   "execution_count": 10,
   "metadata": {},
   "outputs": [
    {
     "data": {
      "image/png": "[encoded data removed]",
      "text/plain": [
       "<Figure size 1541.66x702.333 with 1 Axes>"
      ]
     },
     "execution_count": 10,
     "metadata": {},
     "output_type": "execute_result"
    }
   ],
   "source": [
    "num_qubits = 8\n",
    "qc = QuantumCircuit(num_qubits)\n",
    "input_params = ParameterVector(\"x_par\", num_qubits)\n",
    "training_params = ParameterVector(\"θ\", num_qubits)\n",
    "\n",
    "# Add parameterized gates\n",
    "for _ in range(3):\n",
    "    for i, param in enumerate(training_params):\n",
    "        qc.ry(param, qc.qubits[i])\n",
    "    for i, param in enumerate(input_params):\n",
    "        qc.rz(param, qc.qubits[i])\n",
    "    for i in range(num_qubits - 1):\n",
    "        qc.cx(i, i + 1)\n",
    "\n",
    "qc.draw(\"mpl\", style=\"clifford\")"
   ]
  },
  {
   "cell_type": "markdown",
   "metadata": {},
   "source": [
    "#### Define Quantum kernel and Optimizer"
   ]
  },
  {
   "cell_type": "code",
   "execution_count": 11,
   "metadata": {},
   "outputs": [],
   "source": [
    "sampler = Sampler()\n",
    "fidelity = ComputeUncompute(sampler=sampler)\n",
    "quant_kernel = TrainableFidelityQuantumKernel(\n",
    "    fidelity=fidelity,\n",
    "    feature_map=qc,\n",
    "    training_parameters=training_params,\n",
    ")\n",
    "\n",
    "spsa_opt = SPSA(maxiter=10, learning_rate=0.02, perturbation=0.01)"
   ]
  },
  {
   "cell_type": "markdown",
   "metadata": {},
   "source": [
    "#### Traine quantum kernel"
   ]
  },
  {
   "cell_type": "code",
   "execution_count": 12,
   "metadata": {},
   "outputs": [
    {
     "name": "stderr",
     "output_type": "stream",
     "text": [
      "[Parallel(n_jobs=-1)]: Using backend LokyBackend with 8 concurrent workers.\n",
      "[Parallel(n_jobs=-1)]: Done   1 tasks      | elapsed:  1.7min\n",
      "[Parallel(n_jobs=-1)]: Done   2 out of   4 | elapsed:  1.7min remaining:  1.7min\n",
      "[Parallel(n_jobs=-1)]: Done   4 out of   4 | elapsed:  1.7min finished\n"
     ]
    }
   ],
   "source": [
    "def train_qkt_with_initial_point(initial_point, X_train, y_train, quant_kernel, loss_function, optimizer):\n",
    "    \"\"\"Train QuantumKernelTrainer with a specific initial point.\"\"\"\n",
    "    qkt = QuantumKernelTrainer(\n",
    "        quantum_kernel=quant_kernel,\n",
    "        loss=loss_function,\n",
    "        optimizer=optimizer,\n",
    "        initial_point=initial_point\n",
    "    )\n",
    "    results = qkt.fit(X_train, y_train)\n",
    "    return results\n",
    "\n",
    "# Parallelize Training Over Multiple Initial Points\n",
    "num_initializations = 4\n",
    "initial_points = [np.random.randn(num_qubits) * 0.1 for _ in range(num_initializations)]\n",
    "\n",
    "results = Parallel(n_jobs=-1, verbose=10)(\n",
    "    delayed(train_qkt_with_initial_point)(\n",
    "        initial_point,\n",
    "        X_train_quantum,\n",
    "        y_train_quantum,\n",
    "        quant_kernel,\n",
    "        SVCLoss(),\n",
    "        spsa_opt\n",
    "    )\n",
    "    for initial_point in initial_points\n",
    ")"
   ]
  },
  {
   "cell_type": "code",
   "execution_count": 13,
   "metadata": {},
   "outputs": [],
   "source": [
    "optimized_kernels = [result.quantum_kernel for result in results]"
   ]
  },
  {
   "cell_type": "markdown",
   "metadata": {},
   "source": [
    "#### Save quantum kernel"
   ]
  },
  {
   "cell_type": "code",
   "execution_count": 14,
   "metadata": {},
   "outputs": [],
   "source": [
    "with open('kernels/optimized_QuantumKernel.pkl', 'wb') as f:\n",
    "    pickle.dump(optimized_kernels, f)"
   ]
  },
  {
   "cell_type": "markdown",
   "metadata": {},
   "source": [
    "#### Load quantum kernel"
   ]
  },
  {
   "cell_type": "code",
   "execution_count": 15,
   "metadata": {},
   "outputs": [],
   "source": [
    "with open('kernels/optimized_QuantumKernel.pkl', 'rb') as f:\n",
    "    loaded_kernel = pickle.load(f)"
   ]
  },
  {
   "cell_type": "markdown",
   "metadata": {},
   "source": [
    "#### Prepare train and test data. Tokenization"
   ]
  },
  {
   "cell_type": "code",
   "execution_count": 16,
   "metadata": {},
   "outputs": [
    {
     "data": {
      "application/vnd.jupyter.widget-view+json": {
       "model_id": "d638bfb5d9574916a98ddc035a50d0f3",
       "version_major": 2,
       "version_minor": 0
      },
      "text/plain": [
       "Map:   0%|          | 0/800 [00:00<?, ? examples/s]"
      ]
     },
     "metadata": {},
     "output_type": "display_data"
    },
    {
     "data": {
      "application/vnd.jupyter.widget-view+json": {
       "model_id": "81a893955fb145c18e63573e0bf32cb7",
       "version_major": 2,
       "version_minor": 0
      },
      "text/plain": [
       "Map:   0%|          | 0/200 [00:00<?, ? examples/s]"
      ]
     },
     "metadata": {},
     "output_type": "display_data"
    }
   ],
   "source": [
    "tokenizer = AutoTokenizer.from_pretrained(\"bert-base-uncased\")\n",
    "\n",
    "def tokenize_function(examples):\n",
    "    return tokenizer(examples['text'], truncation=True, padding=\"max_length\", max_length=256)\n",
    "\n",
    "train_data = {'text': X_train, 'label': y_train}\n",
    "test_data = {'text': X_test, 'label': y_test}\n",
    "\n",
    "train_dataset = Dataset.from_dict(train_data)\n",
    "test_dataset = Dataset.from_dict(test_data)\n",
    "\n",
    "train_dataset = train_dataset.map(tokenize_function, batched=True)\n",
    "test_dataset = test_dataset.map(tokenize_function, batched=True)\n",
    "\n",
    "train_dataset.set_format(type='torch', columns=['input_ids', 'attention_mask', 'label'])\n",
    "test_dataset.set_format(type='torch', columns=['input_ids', 'attention_mask', 'label'])"
   ]
  },
  {
   "cell_type": "markdown",
   "metadata": {},
   "source": [
    "#### Model Initialization and Define training arguments"
   ]
  },
  {
   "cell_type": "code",
   "execution_count": 17,
   "metadata": {},
   "outputs": [
    {
     "name": "stderr",
     "output_type": "stream",
     "text": [
      "Some weights of BertForSequenceClassification were not initialized from the model checkpoint at bert-base-uncased and are newly initialized: ['classifier.bias', 'classifier.weight']\n",
      "You should probably TRAIN this model on a down-stream task to be able to use it for predictions and inference.\n"
     ]
    }
   ],
   "source": [
    "model = AutoModelForSequenceClassification.from_pretrained(\n",
    "    \"bert-base-uncased\",\n",
    "    num_labels=len(label_to_id),\n",
    ")\n",
    "\n",
    "training_args = TrainingArguments(\n",
    "    output_dir=\"./results\",\n",
    "    evaluation_strategy=\"epoch\",\n",
    "    save_strategy=\"epoch\",\n",
    "    num_train_epochs=5,\n",
    "    per_device_train_batch_size=8,\n",
    "    per_device_eval_batch_size=8,\n",
    "    learning_rate=5e-6,\n",
    "    logging_dir=\"./logs\",\n",
    "    logging_steps=10,\n",
    "    fp16=False,\n",
    "    bf16=False,\n",
    "    max_grad_norm=1.0,\n",
    ")"
   ]
  },
  {
   "cell_type": "markdown",
   "metadata": {},
   "source": [
    "#### Integrating Optimized Quantum Kernels"
   ]
  },
  {
   "cell_type": "code",
   "execution_count": 18,
   "metadata": {},
   "outputs": [
    {
     "name": "stderr",
     "output_type": "stream",
     "text": [
      "Processing Optimized Kernels:   0%|          | 0/4 [00:00<?, ?it/s]"
     ]
    },
    {
     "name": "stdout",
     "output_type": "stream",
     "text": [
      "\n",
      "Processing Kernel 1/4\n",
      "Training BERT model with Quantum Kernel 1/4...\n"
     ]
    },
    {
     "data": {
      "text/html": [
       "\n",
       "    <div>\n",
       "      \n",
       "      <progress value='500' max='500' style='width:300px; height:20px; vertical-align: middle;'></progress>\n",
       "      [500/500 10:57, Epoch 5/5]\n",
       "    </div>\n",
       "    <table border=\"1\" class=\"dataframe\">\n",
       "  <thead>\n",
       " <tr style=\"text-align: left;\">\n",
       "      <th>Epoch</th>\n",
       "      <th>Training Loss</th>\n",
       "      <th>Validation Loss</th>\n",
       "    </tr>\n",
       "  </thead>\n",
       "  <tbody>\n",
       "    <tr>\n",
       "      <td>1</td>\n",
       "      <td>1.610300</td>\n",
       "      <td>1.609863</td>\n",
       "    </tr>\n",
       "    <tr>\n",
       "      <td>2</td>\n",
       "      <td>1.641900</td>\n",
       "      <td>1.611810</td>\n",
       "    </tr>\n",
       "    <tr>\n",
       "      <td>3</td>\n",
       "      <td>1.631100</td>\n",
       "      <td>1.613663</td>\n",
       "    </tr>\n",
       "    <tr>\n",
       "      <td>4</td>\n",
       "      <td>1.613000</td>\n",
       "      <td>1.610274</td>\n",
       "    </tr>\n",
       "    <tr>\n",
       "      <td>5</td>\n",
       "      <td>1.611400</td>\n",
       "      <td>1.611226</td>\n",
       "    </tr>\n",
       "  </tbody>\n",
       "</table><p>"
      ],
      "text/plain": [
       "<IPython.core.display.HTML object>"
      ]
     },
     "metadata": {},
     "output_type": "display_data"
    },
    {
     "name": "stdout",
     "output_type": "stream",
     "text": [
      "Saving trained model for Kernel 1 at ./saved_models/kernel_1...\n"
     ]
    },
    {
     "data": {
      "text/html": [
       "\n",
       "    <div>\n",
       "      \n",
       "      <progress value='25' max='25' style='width:300px; height:20px; vertical-align: middle;'></progress>\n",
       "      [25/25 00:08]\n",
       "    </div>\n",
       "    "
      ],
      "text/plain": [
       "<IPython.core.display.HTML object>"
      ]
     },
     "metadata": {},
     "output_type": "display_data"
    },
    {
     "name": "stderr",
     "output_type": "stream",
     "text": [
      "Processing Optimized Kernels:  25%|██▌       | 1/4 [41:07<2:03:22, 2467.56s/it]"
     ]
    },
    {
     "name": "stdout",
     "output_type": "stream",
     "text": [
      "Evaluation Results for Kernel 1: {'eval_loss': 1.6112256050109863, 'eval_runtime': 9.1981, 'eval_samples_per_second': 21.744, 'eval_steps_per_second': 2.718, 'epoch': 5.0}\n",
      "\n",
      "\n",
      "Processing Kernel 2/4\n",
      "Training BERT model with Quantum Kernel 2/4...\n"
     ]
    },
    {
     "data": {
      "text/html": [
       "\n",
       "    <div>\n",
       "      \n",
       "      <progress value='500' max='500' style='width:300px; height:20px; vertical-align: middle;'></progress>\n",
       "      [500/500 10:50, Epoch 5/5]\n",
       "    </div>\n",
       "    <table border=\"1\" class=\"dataframe\">\n",
       "  <thead>\n",
       " <tr style=\"text-align: left;\">\n",
       "      <th>Epoch</th>\n",
       "      <th>Training Loss</th>\n",
       "      <th>Validation Loss</th>\n",
       "    </tr>\n",
       "  </thead>\n",
       "  <tbody>\n",
       "    <tr>\n",
       "      <td>1</td>\n",
       "      <td>1.596500</td>\n",
       "      <td>1.611528</td>\n",
       "    </tr>\n",
       "    <tr>\n",
       "      <td>2</td>\n",
       "      <td>1.634400</td>\n",
       "      <td>1.609673</td>\n",
       "    </tr>\n",
       "    <tr>\n",
       "      <td>3</td>\n",
       "      <td>1.621500</td>\n",
       "      <td>1.611895</td>\n",
       "    </tr>\n",
       "    <tr>\n",
       "      <td>4</td>\n",
       "      <td>1.608500</td>\n",
       "      <td>1.607985</td>\n",
       "    </tr>\n",
       "    <tr>\n",
       "      <td>5</td>\n",
       "      <td>1.611500</td>\n",
       "      <td>1.609492</td>\n",
       "    </tr>\n",
       "  </tbody>\n",
       "</table><p>"
      ],
      "text/plain": [
       "<IPython.core.display.HTML object>"
      ]
     },
     "metadata": {},
     "output_type": "display_data"
    },
    {
     "name": "stdout",
     "output_type": "stream",
     "text": [
      "Saving trained model for Kernel 2 at ./saved_models/kernel_2...\n"
     ]
    },
    {
     "data": {
      "text/html": [
       "\n",
       "    <div>\n",
       "      \n",
       "      <progress value='25' max='25' style='width:300px; height:20px; vertical-align: middle;'></progress>\n",
       "      [25/25 00:08]\n",
       "    </div>\n",
       "    "
      ],
      "text/plain": [
       "<IPython.core.display.HTML object>"
      ]
     },
     "metadata": {},
     "output_type": "display_data"
    },
    {
     "name": "stderr",
     "output_type": "stream",
     "text": [
      "Processing Optimized Kernels:  50%|█████     | 2/4 [1:22:12<1:22:12, 2466.11s/it]"
     ]
    },
    {
     "name": "stdout",
     "output_type": "stream",
     "text": [
      "Evaluation Results for Kernel 2: {'eval_loss': 1.6094917058944702, 'eval_runtime': 9.2146, 'eval_samples_per_second': 21.705, 'eval_steps_per_second': 2.713, 'epoch': 5.0}\n",
      "\n",
      "\n",
      "Processing Kernel 3/4\n",
      "Training BERT model with Quantum Kernel 3/4...\n"
     ]
    },
    {
     "data": {
      "text/html": [
       "\n",
       "    <div>\n",
       "      \n",
       "      <progress value='500' max='500' style='width:300px; height:20px; vertical-align: middle;'></progress>\n",
       "      [500/500 11:01, Epoch 5/5]\n",
       "    </div>\n",
       "    <table border=\"1\" class=\"dataframe\">\n",
       "  <thead>\n",
       " <tr style=\"text-align: left;\">\n",
       "      <th>Epoch</th>\n",
       "      <th>Training Loss</th>\n",
       "      <th>Validation Loss</th>\n",
       "    </tr>\n",
       "  </thead>\n",
       "  <tbody>\n",
       "    <tr>\n",
       "      <td>1</td>\n",
       "      <td>1.589600</td>\n",
       "      <td>1.608770</td>\n",
       "    </tr>\n",
       "    <tr>\n",
       "      <td>2</td>\n",
       "      <td>1.627400</td>\n",
       "      <td>1.628832</td>\n",
       "    </tr>\n",
       "    <tr>\n",
       "      <td>3</td>\n",
       "      <td>1.563700</td>\n",
       "      <td>1.610018</td>\n",
       "    </tr>\n",
       "    <tr>\n",
       "      <td>4</td>\n",
       "      <td>1.547200</td>\n",
       "      <td>1.628995</td>\n",
       "    </tr>\n",
       "    <tr>\n",
       "      <td>5</td>\n",
       "      <td>1.613000</td>\n",
       "      <td>1.630930</td>\n",
       "    </tr>\n",
       "  </tbody>\n",
       "</table><p>"
      ],
      "text/plain": [
       "<IPython.core.display.HTML object>"
      ]
     },
     "metadata": {},
     "output_type": "display_data"
    },
    {
     "name": "stdout",
     "output_type": "stream",
     "text": [
      "Saving trained model for Kernel 3 at ./saved_models/kernel_3...\n"
     ]
    },
    {
     "data": {
      "text/html": [
       "\n",
       "    <div>\n",
       "      \n",
       "      <progress value='25' max='25' style='width:300px; height:20px; vertical-align: middle;'></progress>\n",
       "      [25/25 00:08]\n",
       "    </div>\n",
       "    "
      ],
      "text/plain": [
       "<IPython.core.display.HTML object>"
      ]
     },
     "metadata": {},
     "output_type": "display_data"
    },
    {
     "name": "stderr",
     "output_type": "stream",
     "text": [
      "Processing Optimized Kernels:  75%|███████▌  | 3/4 [2:03:04<40:59, 2459.53s/it]  "
     ]
    },
    {
     "name": "stdout",
     "output_type": "stream",
     "text": [
      "Evaluation Results for Kernel 3: {'eval_loss': 1.6309295892715454, 'eval_runtime': 9.1616, 'eval_samples_per_second': 21.83, 'eval_steps_per_second': 2.729, 'epoch': 5.0}\n",
      "\n",
      "\n",
      "Processing Kernel 4/4\n",
      "Training BERT model with Quantum Kernel 4/4...\n"
     ]
    },
    {
     "data": {
      "text/html": [
       "\n",
       "    <div>\n",
       "      \n",
       "      <progress value='500' max='500' style='width:300px; height:20px; vertical-align: middle;'></progress>\n",
       "      [500/500 10:53, Epoch 5/5]\n",
       "    </div>\n",
       "    <table border=\"1\" class=\"dataframe\">\n",
       "  <thead>\n",
       " <tr style=\"text-align: left;\">\n",
       "      <th>Epoch</th>\n",
       "      <th>Training Loss</th>\n",
       "      <th>Validation Loss</th>\n",
       "    </tr>\n",
       "  </thead>\n",
       "  <tbody>\n",
       "    <tr>\n",
       "      <td>1</td>\n",
       "      <td>1.480400</td>\n",
       "      <td>1.625952</td>\n",
       "    </tr>\n",
       "    <tr>\n",
       "      <td>2</td>\n",
       "      <td>1.459700</td>\n",
       "      <td>1.706649</td>\n",
       "    </tr>\n",
       "    <tr>\n",
       "      <td>3</td>\n",
       "      <td>1.422400</td>\n",
       "      <td>1.708270</td>\n",
       "    </tr>\n",
       "    <tr>\n",
       "      <td>4</td>\n",
       "      <td>1.426900</td>\n",
       "      <td>1.760083</td>\n",
       "    </tr>\n",
       "    <tr>\n",
       "      <td>5</td>\n",
       "      <td>1.500300</td>\n",
       "      <td>1.721293</td>\n",
       "    </tr>\n",
       "  </tbody>\n",
       "</table><p>"
      ],
      "text/plain": [
       "<IPython.core.display.HTML object>"
      ]
     },
     "metadata": {},
     "output_type": "display_data"
    },
    {
     "name": "stdout",
     "output_type": "stream",
     "text": [
      "Saving trained model for Kernel 4 at ./saved_models/kernel_4...\n"
     ]
    },
    {
     "data": {
      "text/html": [
       "\n",
       "    <div>\n",
       "      \n",
       "      <progress value='25' max='25' style='width:300px; height:20px; vertical-align: middle;'></progress>\n",
       "      [25/25 00:08]\n",
       "    </div>\n",
       "    "
      ],
      "text/plain": [
       "<IPython.core.display.HTML object>"
      ]
     },
     "metadata": {},
     "output_type": "display_data"
    },
    {
     "name": "stderr",
     "output_type": "stream",
     "text": [
      "Processing Optimized Kernels: 100%|██████████| 4/4 [2:44:10<00:00, 2462.52s/it]"
     ]
    },
    {
     "name": "stdout",
     "output_type": "stream",
     "text": [
      "Evaluation Results for Kernel 4: {'eval_loss': 1.7212926149368286, 'eval_runtime': 8.9169, 'eval_samples_per_second': 22.429, 'eval_steps_per_second': 2.804, 'epoch': 5.0}\n",
      "\n",
      "Final Evaluation Results: [{'eval_loss': 1.6112256050109863, 'eval_runtime': 9.1981, 'eval_samples_per_second': 21.744, 'eval_steps_per_second': 2.718, 'epoch': 5.0}, {'eval_loss': 1.6094917058944702, 'eval_runtime': 9.2146, 'eval_samples_per_second': 21.705, 'eval_steps_per_second': 2.713, 'epoch': 5.0}, {'eval_loss': 1.6309295892715454, 'eval_runtime': 9.1616, 'eval_samples_per_second': 21.83, 'eval_steps_per_second': 2.729, 'epoch': 5.0}, {'eval_loss': 1.7212926149368286, 'eval_runtime': 8.9169, 'eval_samples_per_second': 22.429, 'eval_steps_per_second': 2.804, 'epoch': 5.0}]\n"
     ]
    },
    {
     "name": "stderr",
     "output_type": "stream",
     "text": [
      "\n"
     ]
    }
   ],
   "source": [
    "data_collator = DataCollatorWithPadding(tokenizer=tokenizer, return_tensors=\"pt\")\n",
    "model_save_path = \"./saved_models\"\n",
    "os.makedirs(model_save_path, exist_ok=True)\n",
    "\n",
    "evaluation_results = []\n",
    "\n",
    "for idx, kernel in enumerate(tqdm(optimized_kernels, desc=\"Processing Optimized Kernels\")):\n",
    "    print(f\"\\nProcessing Kernel {idx + 1}/{len(optimized_kernels)}\")\n",
    "\n",
    "    quantum_features = kernel.evaluate(X_train_reduced, X_train_reduced)\n",
    "    quantum_features_test = kernel.evaluate(X_test_reduced, X_train_reduced)\n",
    "\n",
    "    quantum_features_int = torch.tensor(quantum_features, dtype=torch.int64).cpu()\n",
    "    quantum_features_test_int = torch.tensor(quantum_features_test, dtype=torch.int64).cpu()\n",
    "\n",
    "    max_length = train_dataset['input_ids'].shape[1]\n",
    "\n",
    "    def adjust_features(features, max_length):\n",
    "        \"\"\"Adjust features to match the max_length.\"\"\"\n",
    "        if features.shape[1] > max_length:\n",
    "            return features[:, :max_length]\n",
    "        elif features.shape[1] < max_length:\n",
    "            padding = torch.zeros((features.shape[0], max_length - features.shape[1]), dtype=torch.int64)\n",
    "            return torch.cat((features, padding), dim=1)\n",
    "        return features\n",
    "\n",
    "    quantum_features_int = adjust_features(quantum_features_int, max_length)\n",
    "    quantum_features_test_int = adjust_features(quantum_features_test_int, max_length)\n",
    "\n",
    "    try:\n",
    "        X_train_combined = torch.cat((train_dataset['input_ids'], quantum_features_int), dim=1).cpu()\n",
    "        X_test_combined = torch.cat((test_dataset['input_ids'], quantum_features_test_int), dim=1).cpu()\n",
    "    except RuntimeError as e:\n",
    "        print(f\"Error combining features for Kernel {idx + 1}: {e}\")\n",
    "        continue\n",
    "\n",
    "    extended_attention_mask_train = torch.cat(\n",
    "        (train_dataset['attention_mask'], torch.ones_like(quantum_features_int, dtype=torch.int64)), dim=1\n",
    "    ).cpu()\n",
    "    extended_attention_mask_test = torch.cat(\n",
    "        (test_dataset['attention_mask'], torch.ones_like(quantum_features_test_int, dtype=torch.int64)), dim=1\n",
    "    ).cpu()\n",
    "\n",
    "    train_dataset_combined = Dataset.from_dict({\n",
    "        'input_ids': X_train_combined.tolist(),\n",
    "        'attention_mask': extended_attention_mask_train.tolist(),\n",
    "        'label': train_dataset['label'].tolist(),\n",
    "    })\n",
    "\n",
    "    test_dataset_combined = Dataset.from_dict({\n",
    "        'input_ids': X_test_combined.tolist(),\n",
    "        'attention_mask': extended_attention_mask_test.tolist(),\n",
    "        'label': test_dataset['label'].tolist(),\n",
    "    })\n",
    "\n",
    "    trainer = Trainer(\n",
    "        model=model,\n",
    "        args=training_args,\n",
    "        train_dataset=train_dataset_combined,\n",
    "        eval_dataset=test_dataset_combined,\n",
    "        data_collator=data_collator,\n",
    "    )\n",
    "\n",
    "    print(f\"Training BERT model with Quantum Kernel {idx + 1}/{len(optimized_kernels)}...\")\n",
    "    try:\n",
    "        trainer.train()\n",
    "    except RuntimeError as e:\n",
    "        print(f\"Training failed for Kernel {idx + 1} due to: {e}\")\n",
    "        continue\n",
    "\n",
    "    kernel_model_path = os.path.join(model_save_path, f\"kernel_{idx + 1}\")\n",
    "    print(f\"Saving trained model for Kernel {idx + 1} at {kernel_model_path}...\")\n",
    "    trainer.save_model(kernel_model_path)\n",
    "    tokenizer.save_pretrained(kernel_model_path)\n",
    "\n",
    "    results = trainer.evaluate()\n",
    "    evaluation_results.append(results)\n",
    "    print(f\"Evaluation Results for Kernel {idx + 1}: {results}\\n\")\n",
    "\n",
    "    torch.cuda.empty_cache()\n",
    "    gc.collect()\n",
    "\n",
    "print(\"Final Evaluation Results:\", evaluation_results)"
   ]
  },
  {
   "cell_type": "markdown",
   "metadata": {},
   "source": [
    "#### Inference"
   ]
  },
  {
   "cell_type": "code",
   "execution_count": 19,
   "metadata": {},
   "outputs": [],
   "source": [
    "device = torch.device(\"mps\" if torch.has_mps else \"cpu\")\n",
    "model.to(device)\n",
    "\n",
    "def predict(texts, model_path):\n",
    "    model = AutoModelForSequenceClassification.from_pretrained(model_path)\n",
    "    tokenizer = AutoTokenizer.from_pretrained(model_path)\n",
    "    model.to(device)\n",
    "\n",
    "    encodings = tokenizer(texts, truncation=True, padding=True, max_length=256, return_tensors=\"pt\")\n",
    "    encodings = {key: val.to(device) for key, val in encodings.items()}\n",
    "    with torch.no_grad():\n",
    "        outputs = model(**encodings)\n",
    "        predictions = torch.argmax(outputs.logits, dim=1)\n",
    "    return [id_to_label[pred.item()] for pred in predictions]"
   ]
  },
  {
   "cell_type": "markdown",
   "metadata": {},
   "source": [
    "#### Example Inference with the model trained on Kernel 1"
   ]
  },
  {
   "cell_type": "code",
   "execution_count": 20,
   "metadata": {},
   "outputs": [
    {
     "name": "stdout",
     "output_type": "stream",
     "text": [
      "Predictions: ['E', 'E']\n"
     ]
    }
   ],
   "source": [
    "sample_texts = [\"What is quantum entanglement?\", \"Explain Modified Newtonian Dynamics.\"]\n",
    "model_path = os.path.join(model_save_path, \"kernel_1\")\n",
    "predictions = predict(sample_texts, model_path)\n",
    "print(\"Predictions:\", predictions)"
   ]
  },
  {
   "cell_type": "markdown",
   "metadata": {},
   "source": [
    "#### TESTING"
   ]
  },
  {
   "cell_type": "code",
   "execution_count": 36,
   "metadata": {},
   "outputs": [],
   "source": [
    "model_save_path = \"./saved_models\"\n",
    "kernel_to_test_list = [1, 2, 3, 4]\n",
    "max_length = 256\n",
    "\n",
    "# Use reduced datasets for quick testing\n",
    "X_test = X_test[:50]  # Reduced test prompts\n",
    "X_test_reduced = X_test_reduced[:50]  # Reduced test features\n",
    "X_train_reduced = X_train_reduced[:50]  # Reduced train features\n",
    "y_test = y_test[:50]  # Reduced test answers\n",
    "\n",
    "def adjust_features(features, max_length):\n",
    "    \"\"\"Adjust features to match the max_length.\"\"\"\n",
    "    if features.shape[1] > max_length:\n",
    "        return features[:, :max_length]\n",
    "    elif features.shape[1] < max_length:\n",
    "        padding = torch.zeros((features.shape[0], max_length - features.shape[1]), dtype=torch.int64)\n",
    "        return torch.cat((features, padding), dim=1)\n",
    "    return features\n",
    "\n",
    "evaluation_results = []"
   ]
  },
  {
   "cell_type": "code",
   "execution_count": 37,
   "metadata": {},
   "outputs": [
    {
     "name": "stdout",
     "output_type": "stream",
     "text": [
      "\n",
      "Evaluating Kernel 1...\n",
      "Loading model and tokenizer from ./saved_models/kernel_1...\n",
      "\n",
      "Classification Report:\n",
      "              precision    recall  f1-score   support\n",
      "\n",
      "           A       0.00      0.00      0.00        11\n",
      "           B       0.20      1.00      0.33        10\n",
      "           C       0.00      0.00      0.00        13\n",
      "           D       0.00      0.00      0.00         8\n",
      "           E       0.00      0.00      0.00         8\n",
      "\n",
      "    accuracy                           0.20        50\n",
      "   macro avg       0.04      0.20      0.07        50\n",
      "weighted avg       0.04      0.20      0.07        50\n",
      "\n",
      "Confusion Matrix:\n",
      "[[ 0 11  0  0  0]\n",
      " [ 0 10  0  0  0]\n",
      " [ 0 13  0  0  0]\n",
      " [ 0  8  0  0  0]\n",
      " [ 0  8  0  0  0]]\n",
      "Accuracy for Kernel 1: 0.2000\n",
      "\n",
      "Evaluating Kernel 2...\n",
      "Loading model and tokenizer from ./saved_models/kernel_2...\n",
      "\n",
      "Classification Report:\n",
      "              precision    recall  f1-score   support\n",
      "\n",
      "           A       0.00      0.00      0.00        11\n",
      "           B       0.29      0.70      0.41        10\n",
      "           C       0.27      0.54      0.36        13\n",
      "           D       0.00      0.00      0.00         8\n",
      "           E       0.00      0.00      0.00         8\n",
      "\n",
      "    accuracy                           0.28        50\n",
      "   macro avg       0.11      0.25      0.15        50\n",
      "weighted avg       0.13      0.28      0.18        50\n",
      "\n",
      "Confusion Matrix:\n",
      "[[0 6 5 0 0]\n",
      " [0 7 3 0 0]\n",
      " [0 6 7 0 0]\n",
      " [0 2 6 0 0]\n",
      " [0 3 5 0 0]]\n",
      "Accuracy for Kernel 2: 0.2800\n",
      "\n",
      "Evaluating Kernel 3...\n",
      "Loading model and tokenizer from ./saved_models/kernel_3...\n",
      "\n",
      "Classification Report:\n",
      "              precision    recall  f1-score   support\n",
      "\n",
      "           A       0.38      0.55      0.44        11\n",
      "           B       0.29      0.20      0.24        10\n",
      "           C       0.32      0.46      0.38        13\n",
      "           D       0.00      0.00      0.00         8\n",
      "           E       0.29      0.25      0.27         8\n",
      "\n",
      "    accuracy                           0.32        50\n",
      "   macro avg       0.25      0.29      0.26        50\n",
      "weighted avg       0.27      0.32      0.29        50\n",
      "\n",
      "Confusion Matrix:\n",
      "[[6 1 4 0 0]\n",
      " [3 2 5 0 0]\n",
      " [3 2 6 0 2]\n",
      " [2 1 2 0 3]\n",
      " [2 1 2 1 2]]\n",
      "Accuracy for Kernel 3: 0.3200\n",
      "\n",
      "Evaluating Kernel 4...\n",
      "Loading model and tokenizer from ./saved_models/kernel_4...\n",
      "\n",
      "Classification Report:\n",
      "              precision    recall  f1-score   support\n",
      "\n",
      "           A       0.75      0.27      0.40        11\n",
      "           B       0.27      0.60      0.38        10\n",
      "           C       0.25      0.38      0.30        13\n",
      "           D       0.00      0.00      0.00         8\n",
      "           E       0.00      0.00      0.00         8\n",
      "\n",
      "    accuracy                           0.28        50\n",
      "   macro avg       0.25      0.25      0.22        50\n",
      "weighted avg       0.28      0.28      0.24        50\n",
      "\n",
      "Confusion Matrix:\n",
      "[[3 4 2 2 0]\n",
      " [0 6 4 0 0]\n",
      " [1 6 5 0 1]\n",
      " [0 2 5 0 1]\n",
      " [0 4 4 0 0]]\n",
      "Accuracy for Kernel 4: 0.2800\n"
     ]
    }
   ],
   "source": [
    "\n",
    "for kernel_to_test in kernel_to_test_list:\n",
    "    print(f\"\\nEvaluating Kernel {kernel_to_test}...\")\n",
    "\n",
    "    test_model_path = os.path.join(model_save_path, f\"kernel_{kernel_to_test}\")\n",
    "    print(f\"Loading model and tokenizer from {test_model_path}...\")\n",
    "    reloaded_model = AutoModelForSequenceClassification.from_pretrained(test_model_path)\n",
    "    reloaded_tokenizer = AutoTokenizer.from_pretrained(test_model_path)\n",
    "\n",
    "    test_encodings = reloaded_tokenizer(\n",
    "        list(X_test),\n",
    "        padding=True,\n",
    "        truncation=True,\n",
    "        max_length=max_length,\n",
    "        return_tensors=\"pt\",\n",
    "    )\n",
    "\n",
    "    quantum_features_test = optimized_kernels[kernel_to_test - 1].evaluate(X_test_reduced, X_train_reduced)\n",
    "    quantum_features_test_int = torch.tensor(quantum_features_test, dtype=torch.int64).cpu()\n",
    "    quantum_features_test_int = adjust_features(quantum_features_test_int, max_length)\n",
    "\n",
    "    X_test_combined = torch.cat((test_encodings['input_ids'], quantum_features_test_int), dim=1)\n",
    "    attention_mask_combined = torch.cat(\n",
    "        (test_encodings['attention_mask'], torch.ones_like(quantum_features_test_int, dtype=torch.int64)), dim=1\n",
    "    )\n",
    "\n",
    "    reloaded_model.eval()\n",
    "\n",
    "    with torch.no_grad():\n",
    "        outputs = reloaded_model(\n",
    "            input_ids=X_test_combined,\n",
    "            attention_mask=attention_mask_combined,\n",
    "        )\n",
    "        predictions = torch.argmax(outputs.logits, axis=1).cpu().numpy()\n",
    "\n",
    "    predicted_labels = [id_to_label[pred] for pred in predictions]\n",
    "\n",
    "    true_labels = [id_to_label[label] for label in y_test]\n",
    "\n",
    "    print(\"\\nClassification Report:\")\n",
    "    print(classification_report(true_labels, predicted_labels))\n",
    "\n",
    "    conf_matrix = confusion_matrix(true_labels, predicted_labels)\n",
    "    print(\"Confusion Matrix:\")\n",
    "    print(conf_matrix)\n",
    "\n",
    "    accuracy = accuracy_score(true_labels, predicted_labels)\n",
    "    print(f\"Accuracy for Kernel {kernel_to_test}: {accuracy:.4f}\")\n",
    "\n",
    "    evaluation_results.append({\n",
    "        \"kernel\": kernel_to_test,\n",
    "        \"accuracy\": accuracy,\n",
    "        \"confusion_matrix\": conf_matrix,\n",
    "        \"classification_report\": classification_report(true_labels, predicted_labels, output_dict=True),\n",
    "    })\n"
   ]
  },
  {
   "cell_type": "code",
   "execution_count": 23,
   "metadata": {},
   "outputs": [],
   "source": [
    "# Print summary of results\n",
    "print(\"\\nFinal Evaluation Results:\")\n",
    "for result in evaluation_results:\n",
    "    print(f\"Kernel {result['kernel']} - Accuracy: {result['accuracy']:.4f}\")"
   ]
  },
  {
   "cell_type": "code",
   "execution_count": 38,
   "metadata": {},
   "outputs": [
    {
     "data": {
      "image/png": "[encoded data removed]",
      "text/plain": [
       "<Figure size 1000x700 with 2 Axes>"
      ]
     },
     "metadata": {},
     "output_type": "display_data"
    }
   ],
   "source": [
    "plt.figure(figsize=(10, 7))\n",
    "sns.heatmap(conf_matrix, annot=True, fmt='d', cmap=\"Blues\", xticklabels=label_to_id.keys(), yticklabels=label_to_id.keys())\n",
    "plt.xlabel(\"Predicted Labels\")\n",
    "plt.ylabel(\"True Labels\")\n",
    "plt.title(\"Confusion Matrix\")\n",
    "plt.show()"
   ]
  },
  {
   "cell_type": "code",
   "execution_count": 39,
   "metadata": {},
   "outputs": [
    {
     "data": {
      "text/html": [
       "<h3>Version Information</h3><table><tr><th>Software</th><th>Version</th></tr><tr><td><code>qiskit</code></td><td>1.3.2</td></tr><tr><td><code>qiskit_algorithms</code></td><td>0.3.1</td></tr><tr><td><code>qiskit_machine_learning</code></td><td>0.8.2</td></tr><tr><th colspan='2'>System information</th></tr><tr><td>Python version</td><td>3.12.8</td></tr><tr><td>OS</td><td>Darwin</td></tr><tr><td colspan='2'>Sat Jan 25 23:05:50 2025 CET</td></tr></table>"
      ],
      "text/plain": [
       "<IPython.core.display.HTML object>"
      ]
     },
     "metadata": {},
     "output_type": "display_data"
    },
    {
     "data": {
      "text/html": [
       "<div style='width: 100%; background-color:#d5d9e0;padding-left: 10px; padding-bottom: 10px; padding-right: 10px; padding-top: 5px'><h3>This code is a part of a Qiskit project</h3><p>&copy; Copyright IBM 2017, 2025.</p><p>This code is licensed under the Apache License, Version 2.0. You may<br>obtain a copy of this license in the LICENSE.txt file in the root directory<br> of this source tree or at http://www.apache.org/licenses/LICENSE-2.0.<p>Any modifications or derivative works of this code must retain this<br>copyright notice, and modified files need to carry a notice indicating<br>that they have been altered from the originals.</p></div>"
      ],
      "text/plain": [
       "<IPython.core.display.HTML object>"
      ]
     },
     "metadata": {},
     "output_type": "display_data"
    }
   ],
   "source": [
    "import utils.tutorial_magics\n",
    "\n",
    "%qiskit_version_table\n",
    "%qiskit_copyright"
   ]
  }
 ],
 "metadata": {
  "kernelspec": {
   "display_name": "llmq",
   "language": "python",
   "name": "python3"
  },
  "language_info": {
   "codemirror_mode": {
    "name": "ipython",
    "version": 3
   },
   "file_extension": ".py",
   "mimetype": "text/x-python",
   "name": "python",
   "nbconvert_exporter": "python",
   "pygments_lexer": "ipython3",
   "version": "3.12.8"
  }
 },
 "nbformat": 4,
 "nbformat_minor": 2
}
